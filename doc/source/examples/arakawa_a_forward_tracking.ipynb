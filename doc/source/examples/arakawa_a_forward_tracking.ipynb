{
 "cells": [
  {
   "cell_type": "markdown",
   "metadata": {},
   "source": [
    "# Arakawa A-grid - Forward tracking\n",
    "\n",
    "Arakawa A-grids are common in ocean modelling. It is often a requirement that data submitted to public data repositories, such as the Copernicus Marine Environment Monitoring Service (CMEMS), are defined on an Arakawa A-grid. They are one of the simpler types of grid used in ocean modelling, in which all variables are defined at the same points in space. Here, we demonstrate how to use *PyLag* with inputs defined on an Arakawa A-grid in a forward tracking experiment.\n",
    "\n",
    "In order to complement the forward tracking example using raw Finite Volume Community Ocean Model (FVCOM) outputs, here we use outputs from the same FVCOM model run, but interpolated onto a standard Arakawa A-grid. We release particles from the same locations in space and time. However, here we work in *Spherical Polar coordinates* rather than *Cartesian coordinates*, as was the case in the FVCOM forward tracking experiment.\n",
    "\n",
    "As is the case in the other examples, the output files needed to run the experiment can be [downloaded here](https://pmlbox.pml.ac.uk/index.php/s/gRZKlZgosTnnXxO). If you would like to run the code in this notebook interactively, download the data into a directory of your chooising. By default, the notebook will look for these files in the directory `${HOME}/data/pylag_doc`. To change this, simply update the *data_dir* path below."
   ]
  },
  {
   "cell_type": "code",
   "execution_count": null,
   "metadata": {},
   "outputs": [],
   "source": [
    "import os\n",
    "\n",
    "# Root directory for PyLag example input files\n",
    "data_dir='{}/data/pylag_doc'.format(os.environ['HOME'])"
   ]
  },
  {
   "cell_type": "markdown",
   "metadata": {},
   "source": [
    "## Setting particle initial positions\n",
    "\n",
    "We will create an initial position file in which to record [particle initial positions](../documentation/initial_positions.ipynb). This will be read in by *PyLag*, and used to create the initial particle seed. The initial location of particles will be identical to those used in the [FVCOM forward tracking experiment](./fvcom_forward_tracking.ipynb), but with particle positions defined in polar coordinates rather than Cartesian coordinates. To achieve this, we first create the release zone as before, then convert to polar coordinates using functionality provided by the PyFVCOM toolbox."
   ]
  },
  {
   "cell_type": "code",
   "execution_count": null,
   "metadata": {},
   "outputs": [],
   "source": [
    "import os\n",
    "\n",
    "from PyFVCOM.coordinate import utm_from_lonlat, lonlat_from_utm\n",
    "from pylagtools.release_zone import create_release_zone\n",
    "from pylagtools.input import create_initial_positions_file_single_group\n",
    "\n",
    "# Keep a copy of the cwd\n",
    "cwd = os.getcwd()\n",
    "\n",
    "# Create run directory\n",
    "simulation_dir = '{}/simulations/arakawa_a_forward'.format(cwd)\n",
    "try:\n",
    "    os.makedirs(simulation_dir)\n",
    "except FileExistsError:\n",
    "    pass\n",
    "\n",
    "# The group ID of this particle set\n",
    "group_id = 1\n",
    "\n",
    "# Lat and lon coordiantes for the centre of the release zone\n",
    "lat = 50.32\n",
    "lon = -4.17\n",
    "\n",
    "# Convert to UTM coordinates\n",
    "easting, northing, _ = utm_from_lonlat([lon], [lat], zone='30N')\n",
    "\n",
    "# Release zone radius (m)\n",
    "radius = 200.0\n",
    "\n",
    "# Target number of particles to be released. Only a target,\n",
    "# since we are evenly distributing particles in the release\n",
    "# zone, which has no unique solution.\n",
    "n_particles_target = 100\n",
    "\n",
    "# Release depths\n",
    "depth_below_surface = 0.0\n",
    "\n",
    "# Create the release zone\n",
    "surface_release_zone = create_release_zone(group_id = group_id,\n",
    "                                           radius = radius,\n",
    "                                           centre = [easting, northing],\n",
    "                                           n_particles = n_particles_target,\n",
    "                                           depth = depth_below_surface,\n",
    "                                           random = False)\n",
    "\n",
    "# Get the actual number of particles\n",
    "n_particles = surface_release_zone.get_number_of_particles()\n",
    "\n",
    "# Convert to lat/lon coordinates\n",
    "lons, lats = lonlat_from_utm(surface_release_zone.get_eastings(),\n",
    "                             surface_release_zone.get_northings(),\n",
    "                             '30N')\n",
    "\n",
    "# Get depths\n",
    "depths = surface_release_zone.get_depths()\n",
    "\n",
    "# Create input sub-directory\n",
    "input_dir = '{}/input'.format(simulation_dir)\n",
    "try:\n",
    "    os.makedirs(input_dir)\n",
    "except FileExistsError:\n",
    "    pass\n",
    "\n",
    "# Output filename\n",
    "file_name = '{}/initial_positions.dat'.format(input_dir)\n",
    "\n",
    "# Write data to file\n",
    "create_initial_positions_file_single_group(file_name,\n",
    "                                           n_particles,\n",
    "                                           group_id,\n",
    "                                           lons,\n",
    "                                           lats,\n",
    "                                           depths)"
   ]
  },
  {
   "cell_type": "markdown",
   "metadata": {},
   "source": [
    "## Creating an Arakawa A grid metrics file\n",
    "\n",
    "[Outputs](https://data.ecosystem-modelling.pml.ac.uk/thredds/catalog/mycoast-all-files/Model/FVCOM/tamar/catalog.html) from the Western Channel Observatory operational forecast (WCOOF) model are interpolated onto an Arakawa A-grid and made available for public use via a [THREDDS Data Server](https://www.unidata.ucar.edu/software/tds/current/). This is a standard processing step for coastal high resolution forecast systems that have been developed within the [MyCoast](http://mycoast-project.org/) Interreg project.\n",
    "\n",
    "Internally, *PyLag* treats all grids as being unstructured. In order to work with data defined on an Arakawa A-grid, it is necessary to first create an unstructured representation. Grid variables that describe the unstructured grid are stored in a grid metrics file, which is read in by *PyLag* during the model initialisation phase. A grid metrics file has been pre-created and is shipped with the input data. However, for completeness, here we will recreate a new grid metrics file from the input data."
   ]
  },
  {
   "cell_type": "code",
   "execution_count": null,
   "metadata": {},
   "outputs": [],
   "source": [
    "from pylag.grid_metrics import create_arakawa_a_grid_metrics_file\n",
    "\n",
    "# An example Arakawa A output file\n",
    "arakawa_a_file_name = '{}/arakawa_a_tamar_estuary_0001.nc'.format(data_dir)\n",
    "\n",
    "# The name of the output file\n",
    "grid_metrics_file_name = '{}/grid_metrics.nc'.format(input_dir)\n",
    "\n",
    "# Generate the file\n",
    "create_arakawa_a_grid_metrics_file(arakawa_a_file_name, grid_metrics_file_name=grid_metrics_file_name)"
   ]
  },
  {
   "cell_type": "markdown",
   "metadata": {},
   "source": [
    "It is possible to visualise the unstructured grid, created from the underlying Arakawa A-grid, in the following way."
   ]
  },
  {
   "cell_type": "code",
   "execution_count": null,
   "metadata": {},
   "outputs": [],
   "source": [
    "import warnings\n",
    "import os\n",
    "import numpy as np\n",
    "from netCDF4 import Dataset\n",
    "\n",
    "from PyFVCOM.grid import nodes2elems\n",
    "\n",
    "from pylagtools.plot import PyLagPlotter\n",
    "from pylagtools.plot import create_figure, colourmap\n",
    "\n",
    "# Read in the bathymetry\n",
    "ds = Dataset(grid_metrics_file_name, 'r')\n",
    "bathy = -ds.variables['h'][:]\n",
    "triangles = ds.variables['nv'][:].transpose()\n",
    "ds.close()\n",
    "del(ds)\n",
    "\n",
    "# Full grid\n",
    "# ---------\n",
    "\n",
    "# Create figure\n",
    "font_size = 15\n",
    "cmap = colourmap('h_r')\n",
    "fig, ax = create_figure(figure_size=(26., 26.), font_size=font_size, bg_color='gray')\n",
    "\n",
    "# Configure plotter\n",
    "extents = None\n",
    "plotter = PyLagPlotter(grid_metrics_file_name,\n",
    "                       ax,\n",
    "                       extents=extents,\n",
    "                       fs=font_size,\n",
    "                       use_basemap=True)\n",
    "\n",
    "# Plot bathymetry\n",
    "plotter.plot_field(bathy, add_colorbar=True, cb_label='Depth (m)', vmin=-60., vmax=0., cmap=cmap)\n",
    "\n",
    "# Mark location of Station L4\n",
    "plotter.mark_location([-4.17], [50.25], marker='o', c='r')\n",
    "x,y = plotter.m(-4.17, 50.25)\n",
    "ax.annotate('L4', xy=(x, y), xytext=(0.2, 0.35), textcoords='axes fraction',\n",
    "            arrowprops=dict(facecolor='red', edgecolor='red', width=1,\n",
    "            headwidth=10, headlength=20, shrink=0.05), fontsize=font_size,\n",
    "            color='red')\n",
    "\n",
    "plotter.set_title('Full grid (without grid lines)')\n",
    "\n",
    "# Grid subset (centered on Rame Head)\n",
    "# -----------------------------------\n",
    "\n",
    "# Create figure\n",
    "font_size = 15\n",
    "cmap = colourmap('h_r')\n",
    "fig, ax = create_figure(figure_size=(26., 26.), font_size=font_size, bg_color='gray')\n",
    "\n",
    "# Configure plotter\n",
    "extents = np.array([-4.21, -4.15, 50.30, 50.33], dtype=float)\n",
    "plotter = PyLagPlotter(grid_metrics_file_name,\n",
    "                       ax,\n",
    "                       extents=extents,\n",
    "                       fs=font_size,\n",
    "                       use_basemap=True)\n",
    "\n",
    "# Plot bathymetry\n",
    "plotter.plot_field(bathy, add_colorbar=True, cb_label='Depth (m)', vmin=-60., vmax=0., cmap=cmap)\n",
    "\n",
    "# Overlay grid\n",
    "plotter.draw_grid(linewidth=1.0, draw_masked_elements=True)\n",
    "\n",
    "# Plot particle initial positions\n",
    "plotter.plot_scatter(lons, lats, coordinate_system='spherical',\n",
    "                     s=8, color='#e50000', edgecolors='none')\n",
    "\n",
    "# Set title\n",
    "plotter.set_title('Grid subset centered on Rame Head (with grid lines)')"
   ]
  },
  {
   "cell_type": "markdown",
   "metadata": {},
   "source": [
    "The first plot shows the full model domain. In contrast to the FVCOM grids used in other examples, which only contain valid unmasked cells, here the unstructured grid includes both *masked* (shown in grey) and *unmasked* cells. An outline of the unstructured grid is shown in the second figure (blue lines), where it can clearly be seen the grid extends over both sea and land. What is also evident is the uniform sizing of elements, which again is in contrast to the original FVCOM grid we worked with. The uniform grid sizing is a natural consequence of reinterpreting the regular Arakawa A-grid as an unstructured triangular grid. Relative to the original FVCOM grid, the uniform element sizing has yielded a coarser representation of the flow field near to the coast and within the estuary, and a finer representation of the field in the English Channel. Also shown in the second figure is the initial position of particles (red dots), which match those used in the [FVCOM forward tracking experiment](./fvcom_forward_tracking.ipynb)."
   ]
  },
  {
   "cell_type": "markdown",
   "metadata": {},
   "source": [
    "## Creating the run configuration file\n",
    "\n",
    "As before, a [run configuration](../documentation/configuration_files.ipynb) file has been provided. We will use configparser to look at some settings specific to the example. First, we read in the file, then we print out some of the key options for the run:"
   ]
  },
  {
   "cell_type": "code",
   "execution_count": null,
   "metadata": {},
   "outputs": [],
   "source": [
    "import configparser\n",
    "\n",
    "config_file_name = './configs/arakawa_a_forward_template.cfg'\n",
    "\n",
    "cf = configparser.ConfigParser()\n",
    "cf.read(config_file_name)\n",
    "\n",
    "# Start time\n",
    "print('Start time: {}'.format(cf.get('SIMULATION', 'start_datetime')))\n",
    "\n",
    "# End time\n",
    "print('End time: {}'.format(cf.get('SIMULATION', 'end_datetime')))\n",
    "\n",
    "# Specify that this is a forward tracking experiment\n",
    "print('Time direction: {}'.format(cf.get('SIMULATION', 'time_direction')))\n",
    "\n",
    "# We will do a single run, rather than an ensemble run\n",
    "print('Number of particle releases: {}'.format(cf.get('SIMULATION', 'number_of_particle_releases')))\n",
    "\n",
    "# Use depth restoring, and restore particle depths to the ocean surface\n",
    "print('Use depth restoring: {}'.format(cf.get('SIMULATION', 'depth_restoring')))\n",
    "print('Restore particles to a depth of: {} m'.format(cf.get('SIMULATION', 'fixed_depth')))\n",
    "\n",
    "# Specify that we are working with Arakawa A-grid in spherical coordinates\n",
    "print('Model name: {}'.format(cf.get('OCEAN_CIRCULATION_MODEL', 'name')))\n",
    "print('Coordinate system: {}'.format(cf.get('OCEAN_CIRCULATION_MODEL', 'coordinate_system')))\n",
    "\n",
    "# Set the location of the grid metrics and input files\n",
    "print('Data directory: {}'.format(cf.get('OCEAN_CIRCULATION_MODEL', 'data_dir')))\n",
    "print('Path to grid metrics file: {}'.format(cf.get('OCEAN_CIRCULATION_MODEL', 'grid_metrics_file')))\n",
    "print('File name stem of input files: {}'.format(cf.get('OCEAN_CIRCULATION_MODEL', 'data_file_stem')))"
   ]
  },
  {
   "cell_type": "markdown",
   "metadata": {},
   "source": [
    "The start and end times are identical to those used in the [FVCOM forward tracking experiment](./fvcom_forward_tracking.ipynb). As before, we are restoring particle positions to the ocean surface. The `name` option is used to tell PyLag it will be working with input data defined on an Arakawa A-grid, while the `coordinate_system` option is used to specify that variables are defined on a lat/lon grid. As before, the data directory and path to the grid metrics file have not yet been set.\n",
    "\n",
    "When working with data on Arakawa A-grids, one must provide the names of NetCDF dimensions and variables used in the input data. In this example, the input dataset adheres to [CMOR](https://cmor.llnl.gov/) standards and naming conventions. Some of the key dimension and variable names for this example are:"
   ]
  },
  {
   "cell_type": "code",
   "execution_count": null,
   "metadata": {},
   "outputs": [],
   "source": [
    "print('Dimensions\\n')\n",
    "print('Time dimension name: {}'.format(cf.get('OCEAN_CIRCULATION_MODEL', 'time_dim_name')))\n",
    "print('Depth dimension name: {}'.format(cf.get('OCEAN_CIRCULATION_MODEL', 'depth_dim_name')))\n",
    "print('Latitude dimension name: {}'.format(cf.get('OCEAN_CIRCULATION_MODEL', 'latitude_dim_name')))\n",
    "print('Longitude dimension name: {}'.format(cf.get('OCEAN_CIRCULATION_MODEL', 'longitude_dim_name')))\n",
    "\n",
    "print('\\nVariables\\n')\n",
    "print('Time variable name: {}'.format(cf.get('OCEAN_CIRCULATION_MODEL', 'time_var_name')))\n",
    "print('uo variable name: {}'.format(cf.get('OCEAN_CIRCULATION_MODEL', 'uo_var_name')))\n",
    "print('vo variable name: {}'.format(cf.get('OCEAN_CIRCULATION_MODEL', 'vo_var_name')))"
   ]
  },
  {
   "cell_type": "markdown",
   "metadata": {},
   "source": [
    "We will now set `data_dir` and the path to the grid metrics file, and save the new config file in the simulation directory."
   ]
  },
  {
   "cell_type": "code",
   "execution_count": null,
   "metadata": {},
   "outputs": [],
   "source": [
    "cf.set('OCEAN_CIRCULATION_MODEL', 'data_dir', data_dir)\n",
    "cf.set('OCEAN_CIRCULATION_MODEL', 'grid_metrics_file', grid_metrics_file_name)\n",
    "\n",
    "# Save a copy in the simulation directory\n",
    "with open(\"{}/pylag.cfg\".format(simulation_dir), 'w') as config:\n",
    "    cf.write(config)"
   ]
  },
  {
   "cell_type": "markdown",
   "metadata": {},
   "source": [
    "## Running the model\n",
    "\n",
    "With the run configuration file saved, we can now run the example. While PyLag can be used interactivatly, it is most commonly launched from the command line. A small driver script has been provided, which we will use here to launch *PyLag*."
   ]
  },
  {
   "cell_type": "code",
   "execution_count": null,
   "metadata": {},
   "outputs": [],
   "source": [
    "import subprocess\n",
    "\n",
    "# Change to the run directory and launch\n",
    "os.chdir('{}'.format(simulation_dir))\n",
    "\n",
    "try:\n",
    "    subprocess.call(['./run.sh'])\n",
    "except:\n",
    "    print('Run failed.')\n",
    "    pass\n",
    "\n",
    "# Return to the cwd\n",
    "os.chdir(cwd)"
   ]
  },
  {
   "cell_type": "markdown",
   "metadata": {},
   "source": [
    "## Visualising the result\n",
    "\n",
    "With the model having run, the final step is to visulise the result. Here, we produce a simple plot of particle pathlines over the course of the simulation."
   ]
  },
  {
   "cell_type": "code",
   "execution_count": null,
   "metadata": {},
   "outputs": [],
   "source": [
    "from datetime import timedelta\n",
    "\n",
    "from pylagtools.ncview import Viewer\n",
    "\n",
    "\n",
    "file_name = '{}/output/pylag_1.nc'.format(simulation_dir)\n",
    "\n",
    "# Time of flight\n",
    "time_of_flight = timedelta(hours=15)\n",
    "\n",
    "# Plot extents\n",
    "extents = np.array([-4.3, -4.05, 50.25, 50.4], dtype=float)\n",
    "\n",
    "fig, ax = create_figure(figure_size=(26., 26.), font_size=font_size, bg_color='gray')\n",
    "\n",
    "# Create plot of release \n",
    "plotter = PyLagPlotter(grid_metrics_file_name,\n",
    "                       ax,\n",
    "                       fs=font_size,\n",
    "                       res='i',\n",
    "                       extents=extents,\n",
    "                       use_basemap=True,\n",
    "                       fill_continents=False,\n",
    "                       draw_coastlines=False,\n",
    "                       tick_inc=[1, 1])\n",
    "\n",
    "# Plot the bathymetry again. We'll overlay pathlines on top of this.\n",
    "plotter.plot_field(bathy, add_colorbar=True, cb_label='Depth (m)', vmin=-60.0, vmax=0.0,\n",
    "                   cmap=cmap)\n",
    "\n",
    "# Dataset holding particle positions\n",
    "viewer = Viewer(file_name, time_rounding=900)\n",
    "\n",
    "# Get time index\n",
    "date = viewer.date[0] + time_of_flight\n",
    "time_index = viewer.date.tolist().index(date)\n",
    "\n",
    "# Plot particle final positions\n",
    "plotter.plot_scatter(viewer('longitude')[time_index, :].squeeze(),\n",
    "                     viewer('latitude')[time_index, :].squeeze(),\n",
    "                     coordinate_system='spherical', s=8,\n",
    "                     color='#e50000', edgecolors='none')\n",
    "\n",
    "# Add path lines\n",
    "plotter.plot_lines(viewer('longitude')[:time_index, :],\n",
    "                   viewer('latitude')[:time_index, :],\n",
    "                   coordinate_system='spherical',\n",
    "                   linewidth=0.15, alpha=1,\n",
    "                   color='#0504aa')"
   ]
  },
  {
   "cell_type": "markdown",
   "metadata": {},
   "source": [
    "The pathlines can be seen to closely follow those simulated in the [FVCOM forward tracking experiment](./fvcom_forward_tracking.ipynb). Note we would not expect the match to be exact, given the two sets input data are defined on two different grids with contrasting spatial resolution."
   ]
  }
 ],
 "metadata": {
  "kernelspec": {
   "display_name": "Python 3",
   "language": "python",
   "name": "python3"
  },
  "language_info": {
   "codemirror_mode": {
    "name": "ipython",
    "version": 3
   },
   "file_extension": ".py",
   "mimetype": "text/x-python",
   "name": "python",
   "nbconvert_exporter": "python",
   "pygments_lexer": "ipython3",
   "version": "3.7.7"
  }
 },
 "nbformat": 4,
 "nbformat_minor": 4
}
