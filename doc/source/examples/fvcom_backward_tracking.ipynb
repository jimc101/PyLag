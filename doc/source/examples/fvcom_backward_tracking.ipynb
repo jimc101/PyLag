{
 "cells": [
  {
   "cell_type": "markdown",
   "metadata": {},
   "source": [
    "# FVCOM - Backward tracking\n",
    "\n",
    "This example is similar to the [FVCOM forward tracking experiment](./fvcom_forward_tracking.ipynb), only here we run the model backwards in time. For background information on the FVCOM model setup, please refer to the FVCOM forward tracking experiment.\n",
    "\n",
    "The FVCOM output files needed for the example can be [downloaded here](https://drive.google.com/open?id=15UX7Y9JnuLpnPAz700mzmzd917nTClxR). If you would like to run the code in this notebook interactively, download the data into a directory of your chooising. By default, the notebook will look for these files in the directory ${HOME}/data/pylag_doc. To change this, simply update the `data_dir` path below."
   ]
  },
  {
   "cell_type": "code",
   "execution_count": null,
   "metadata": {},
   "outputs": [],
   "source": [
    "import os\n",
    "\n",
    "# Root directory for PyLag example input files\n",
    "data_dir='{}/data/pylag_doc'.format(os.environ['HOME'])"
   ]
  },
  {
   "cell_type": "markdown",
   "metadata": {},
   "source": [
    "## Setting particle initial positions\n",
    "\n",
    "As we did in the previous example, here we create a single release zone with a radius of 200 m which is located at the edge of Plymouth Sound. We will evenly distribute approximately 100 particles in the release zone. This will act as our *particle seed*. We will save the outputs in a file called `initial_positions.dat`, which will be saved in the sub-directory `input`. In turn, the `input` sub-directory will be created in a dedicated simulation directory `simulations/fvcom_backward`. Particle initial positions are the same as those used in the forward tracking experiment, which also visualises them on a [map](./fvcom_forward_tracking.ipynb)."
   ]
  },
  {
   "cell_type": "code",
   "execution_count": null,
   "metadata": {},
   "outputs": [],
   "source": [
    "import os\n",
    "\n",
    "from PyFVCOM.coordinate import utm_from_lonlat\n",
    "from pylagtools.release_zone import create_release_zone\n",
    "from pylagtools.input import create_initial_positions_file_single_group\n",
    "\n",
    "# Keep a copy of the cwd\n",
    "cwd = os.getcwd()\n",
    "\n",
    "# Create run directory\n",
    "simulation_dir = '{}/simulations/fvcom_backward'.format(cwd)\n",
    "try:\n",
    "    os.makedirs(simulation_dir)\n",
    "except FileExistsError:\n",
    "    pass\n",
    "\n",
    "# The group ID of this particle set\n",
    "group_id = 1\n",
    "\n",
    "# Lat and lon coordiantes for the centre of the release zone\n",
    "lat = 50.32\n",
    "lon = -4.17\n",
    "\n",
    "# Convert to UTM coordinates\n",
    "easting, northing, _ = utm_from_lonlat([lon], [lat], zone='30N')\n",
    "\n",
    "# Release zone radius (m)\n",
    "radius = 200.0\n",
    "\n",
    "# Target number of particles to be released. Only a target,\n",
    "# since we are evenly distributing particles in the release\n",
    "# zone, which has no unique solution.\n",
    "n_particles_target = 100\n",
    "\n",
    "# Release depths\n",
    "depth_below_surface = 0.0\n",
    "\n",
    "# Create the release zone\n",
    "surface_release_zone = create_release_zone(group_id = group_id,\n",
    "                                           radius = radius,\n",
    "                                           centre = [easting, northing],\n",
    "                                           n_particles = n_particles_target,\n",
    "                                           depth = depth_below_surface,\n",
    "                                           random = False)\n",
    "\n",
    "# Get the actual number of particles\n",
    "n_particles = surface_release_zone.get_number_of_particles()\n",
    "\n",
    "# Create input sub-directory\n",
    "input_dir = '{}/input'.format(simulation_dir)\n",
    "try:\n",
    "    os.makedirs(input_dir)\n",
    "except FileExistsError:\n",
    "    pass\n",
    "\n",
    "# Output filename\n",
    "file_name = '{}/initial_positions.dat'.format(input_dir)\n",
    "\n",
    "# Write data to file\n",
    "create_initial_positions_file_single_group(file_name,\n",
    "                                           n_particles,\n",
    "                                           group_id,\n",
    "                                           surface_release_zone.get_eastings(),\n",
    "                                           surface_release_zone.get_northings(),\n",
    "                                           surface_release_zone.get_depths())"
   ]
  },
  {
   "cell_type": "markdown",
   "metadata": {},
   "source": [
    "## Creating a FVCOM grid metrics file\n",
    "\n",
    "The [FVCOM forward tracking experiment](./fvcom_forward_tracking.ipynb) describes how the [grid metrics](../documentation/grid_metrics.ipynb) file can be created. Here, we simply copy the pre-created file that ships with the example input data over to the simulation directory."
   ]
  },
  {
   "cell_type": "code",
   "execution_count": null,
   "metadata": {},
   "outputs": [],
   "source": [
    "from shutil import copyfile\n",
    "\n",
    "# Root directory for PyLag example input files\n",
    "data_dir='{}/data/pylag_doc'.format(os.environ['HOME'])\n",
    "\n",
    "# Grid metrics file (src)\n",
    "grid_metrics_file_name_src = '{}/fvcom_tamar_estuary_grid_metrics.nc'.format(data_dir)\n",
    "\n",
    "# Grid metrics file (dst)\n",
    "grid_metrics_file_name = '{}/grid_metrics.nc'.format(input_dir)\n",
    "\n",
    "copyfile(grid_metrics_file_name_src, grid_metrics_file_name)"
   ]
  },
  {
   "cell_type": "markdown",
   "metadata": {},
   "source": [
    "## Creating the run configuration file\n",
    "\n",
    "The run configuration file is similar to that used in the forward tracking experiment, but with a small number of key differences. These are highlighted below. In particular, note the specified simulation end time should be in the past relative to the simulation start time. Here, we run the model for the same period of time as we did in the forward tracking experiment."
   ]
  },
  {
   "cell_type": "code",
   "execution_count": null,
   "metadata": {},
   "outputs": [],
   "source": [
    "import configparser\n",
    "\n",
    "config_file_name = './configs/fvcom_backward_template.cfg'\n",
    "\n",
    "cf = configparser.ConfigParser()\n",
    "cf.read(config_file_name)\n",
    "\n",
    "# Start time\n",
    "print('Start time: {}'.format(cf.get('SIMULATION', 'start_datetime')))\n",
    "\n",
    "# End time\n",
    "print('End time: {}'.format(cf.get('SIMULATION', 'end_datetime')))\n",
    "\n",
    "# Specify that this is a forward tracking experiment\n",
    "print('Time direction: {}'.format(cf.get('SIMULATION', 'time_direction')))\n",
    "\n",
    "# Set \n",
    "cf.set('OCEAN_CIRCULATION_MODEL', 'data_dir', data_dir)\n",
    "cf.set('OCEAN_CIRCULATION_MODEL', 'grid_metrics_file', grid_metrics_file_name)\n",
    "\n",
    "# Save a copy in the simulation directory\n",
    "with open(\"{}/pylag.cfg\".format(simulation_dir), 'w') as config:\n",
    "    cf.write(config)"
   ]
  },
  {
   "cell_type": "markdown",
   "metadata": {},
   "source": [
    "## Running the model\n",
    "\n",
    "With the run configuration file saved, we can now run the example. Again, a small driver script has been provided, which we will use here to launch *PyLag*."
   ]
  },
  {
   "cell_type": "code",
   "execution_count": null,
   "metadata": {},
   "outputs": [],
   "source": [
    "import subprocess\n",
    "\n",
    "# Change to the run directory and launch\n",
    "os.chdir('{}'.format(simulation_dir))\n",
    "\n",
    "try:\n",
    "    subprocess.call(['./run.sh'])\n",
    "except:\n",
    "    print('Run failed.')\n",
    "    pass\n",
    "\n",
    "# Return to the cwd\n",
    "os.chdir(cwd)"
   ]
  },
  {
   "cell_type": "markdown",
   "metadata": {},
   "source": [
    "## Visualising the result\n",
    "\n",
    "With the model having run, the final step is to visulise the result. As before, we produce a simple plot of particle pathlines over the course of the simulation."
   ]
  },
  {
   "cell_type": "code",
   "execution_count": null,
   "metadata": {},
   "outputs": [],
   "source": [
    "import numpy as np\n",
    "from netCDF4 import Dataset\n",
    "from datetime import timedelta\n",
    "\n",
    "from pylagtools.ncview import Viewer\n",
    "from pylagtools.plot import PyLagPlotter\n",
    "from pylagtools.plot import create_figure, colourmap\n",
    "\n",
    "\n",
    "# Read in the bathymetry\n",
    "ds = Dataset(grid_metrics_file_name, 'r')\n",
    "bathy = -ds.variables['h'][:]\n",
    "ds.close()\n",
    "del(ds)\n",
    "\n",
    "file_name = '{}/output/pylag_1.nc'.format(simulation_dir)\n",
    "\n",
    "# Time of flight (-ve)\n",
    "time_of_flight = timedelta(hours=-15)\n",
    "\n",
    "# Font size for plotting\n",
    "font_size = 15\n",
    "\n",
    "# Colour map for plotting\n",
    "cmap = colourmap('h_r')\n",
    "\n",
    "# Plot extents\n",
    "extents = np.array([-4.3, -4.05, 50.25, 50.4], dtype=float)\n",
    "\n",
    "fig, ax = create_figure(figure_size=(26., 26.), font_size=font_size, bg_color='gray')\n",
    "\n",
    "# Create plot of release \n",
    "plotter = PyLagPlotter(grid_metrics_file_name,\n",
    "                       ax,\n",
    "                       fs=font_size,\n",
    "                       res='i',\n",
    "                       extents=extents,\n",
    "                       use_basemap=True,\n",
    "                       fill_continents=False,\n",
    "                       draw_coastlines=False,\n",
    "                       tick_inc=[1, 1])\n",
    "\n",
    "# Plot the bathymetry again. We'll overlay pathlines on top of this.\n",
    "plotter.plot_field(bathy, add_colorbar=True, cb_label='Depth (m)', vmin=-60.0, vmax=0.0,\n",
    "                   cmap=cmap)\n",
    "\n",
    "# Dataset holding particle positions\n",
    "viewer = Viewer(file_name, time_rounding=900)\n",
    "\n",
    "# Get time index\n",
    "date = viewer.date[0] + time_of_flight\n",
    "time_index = viewer.date.tolist().index(date)\n",
    "\n",
    "# Plot particle final positions\n",
    "plotter.plot_scatter(viewer('x')[time_index, :].squeeze(),\n",
    "                     viewer('y')[time_index, :].squeeze(), s=8, color='#e50000', edgecolors='none')\n",
    "\n",
    "# Add path lines\n",
    "plotter.plot_lines(viewer('x')[:time_index, :], viewer('y')[:time_index, :],\n",
    "                   linewidth=0.15, alpha=1, color='#0504aa')"
   ]
  },
  {
   "cell_type": "markdown",
   "metadata": {},
   "source": [
    "In the image, it can be seen that particles at the release site originated from within Plymouth Sound and up the River Tamar."
   ]
  }
 ],
 "metadata": {
  "kernelspec": {
   "display_name": "Python 3",
   "language": "python",
   "name": "python3"
  },
  "language_info": {
   "codemirror_mode": {
    "name": "ipython",
    "version": 3
   },
   "file_extension": ".py",
   "mimetype": "text/x-python",
   "name": "python",
   "nbconvert_exporter": "python",
   "pygments_lexer": "ipython3",
   "version": "3.7.7"
  }
 },
 "nbformat": 4,
 "nbformat_minor": 4
}
